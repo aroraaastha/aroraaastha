{
  "nbformat": 4,
  "nbformat_minor": 0,
  "metadata": {
    "colab": {
      "provenance": [],
      "authorship_tag": "ABX9TyMYqSwNLTgiPUXylPc+8RFY",
      "include_colab_link": true
    },
    "kernelspec": {
      "name": "python3",
      "display_name": "Python 3"
    },
    "language_info": {
      "name": "python"
    }
  },
  "cells": [
    {
      "cell_type": "markdown",
      "metadata": {
        "id": "view-in-github",
        "colab_type": "text"
      },
      "source": [
        "<a href=\"https://colab.research.google.com/github/aroraaastha/aroraaastha/blob/main/lab1.ipynb\" target=\"_parent\"><img src=\"https://colab.research.google.com/assets/colab-badge.svg\" alt=\"Open In Colab\"/></a>"
      ]
    },
    {
      "cell_type": "code",
      "execution_count": 1,
      "metadata": {
        "colab": {
          "base_uri": "https://localhost:8080/"
        },
        "id": "tOyh7c6I-44S",
        "outputId": "a359fc54-9c3e-4b29-a5b7-b2c3ad69126f"
      },
      "outputs": [
        {
          "output_type": "stream",
          "name": "stdout",
          "text": [
            "3.14\n"
          ]
        }
      ],
      "source": [
        "num = 3.14159\n",
        "print(f\"{num:.2f}\")\n"
      ]
    },
    {
      "cell_type": "code",
      "source": [
        "\n",
        "num1 = int(input(\"Enter first number: \"))\n",
        "num2 = int(input(\"Enter second number: \"))\n",
        "product = num1 * num2\n",
        "print(\"Product =\", product)\n"
      ],
      "metadata": {
        "colab": {
          "base_uri": "https://localhost:8080/"
        },
        "id": "7jCJLkK6_YrL",
        "outputId": "f03e60fa-ffdf-40ad-df2e-265f8126f745"
      },
      "execution_count": 3,
      "outputs": [
        {
          "output_type": "stream",
          "name": "stdout",
          "text": [
            "Enter first number: 5\n",
            "Enter second number: 10\n",
            "Product = 50\n"
          ]
        }
      ]
    },
    {
      "cell_type": "code",
      "source": [
        "import math\n",
        "radius = 10\n",
        "volume = (4/3) * math.pi * radius**3\n",
        "print(f\"Volume of the sphere is: {volume:.2f}\")\n"
      ],
      "metadata": {
        "colab": {
          "base_uri": "https://localhost:8080/"
        },
        "id": "XXmS8-HE_laT",
        "outputId": "d13ffd7c-24e4-405e-8850-e2600cfd2a42"
      },
      "execution_count": 4,
      "outputs": [
        {
          "output_type": "stream",
          "name": "stdout",
          "text": [
            "Volume of the sphere is: 4188.79\n"
          ]
        }
      ]
    },
    {
      "cell_type": "code",
      "source": [
        "\n",
        "text = input(\"Enter a string: \")\n",
        "length = len(text)\n",
        "print(\"Length of the string is:\", length)\n"
      ],
      "metadata": {
        "colab": {
          "base_uri": "https://localhost:8080/"
        },
        "id": "iGb7CfA2_69t",
        "outputId": "ee8b1173-dcc3-4ab8-ae38-9f68502ddf0d"
      },
      "execution_count": 5,
      "outputs": [
        {
          "output_type": "stream",
          "name": "stdout",
          "text": [
            "Enter a string: Hello World\n",
            "Length of the string is: 11\n"
          ]
        }
      ]
    },
    {
      "cell_type": "code",
      "source": [
        "\n",
        "num1 = float(input(\"Enter first number: \"))\n",
        "num2 = float(input(\"Enter second number: \"))\n",
        "product = num1 * num2\n",
        "print(\"Product =\", product)\n"
      ],
      "metadata": {
        "colab": {
          "base_uri": "https://localhost:8080/"
        },
        "id": "nuwXmbniARUP",
        "outputId": "55fff8df-2c3e-467d-a26a-075368461792"
      },
      "execution_count": 6,
      "outputs": [
        {
          "output_type": "stream",
          "name": "stdout",
          "text": [
            "Enter first number: 7\n",
            "Enter second number: 8\n",
            "Product = 56.0\n"
          ]
        }
      ]
    },
    {
      "cell_type": "code",
      "source": [
        "a=int(input(\"Enter a number: \"))\n",
        "print(a+(2*a)+(3*a))"
      ],
      "metadata": {
        "colab": {
          "base_uri": "https://localhost:8080/"
        },
        "id": "aFHz_-IcB7OG",
        "outputId": "5504f4a4-3896-4f9c-a31f-4d80e233e4c5"
      },
      "execution_count": 9,
      "outputs": [
        {
          "output_type": "stream",
          "name": "stdout",
          "text": [
            "Enter a number: 12\n",
            "72\n"
          ]
        }
      ]
    },
    {
      "cell_type": "code",
      "source": [
        "value = input(\"Enter a number: \")\n",
        "\n",
        "float_value = float(value)\n",
        "int_value = int(float_value)\n",
        "\n",
        "print(\"Float value:\", float_value)\n",
        "print(\"Integer value:\", int_value)\n"
      ],
      "metadata": {
        "colab": {
          "base_uri": "https://localhost:8080/"
        },
        "id": "3s0y9sq-CRH6",
        "outputId": "5780614e-8ab1-4d2d-9f8e-edf2aea1578c"
      },
      "execution_count": 10,
      "outputs": [
        {
          "output_type": "stream",
          "name": "stdout",
          "text": [
            "Enter a number: 45.68\n",
            "Float value: 45.68\n",
            "Integer value: 45\n"
          ]
        }
      ]
    },
    {
      "cell_type": "code",
      "source": [
        "n = int(input(\"How many numbers? \"))\n",
        "numbers = []6\n",
        "print(\"Sum of the numbers is:\", total)\n"
      ],
      "metadata": {
        "colab": {
          "base_uri": "https://localhost:8080/"
        },
        "id": "VLjIESaXCi1h",
        "outputId": "cd38e37b-0cda-4e26-ac83-eb794f2bffd1"
      },
      "execution_count": 11,
      "outputs": [
        {
          "output_type": "stream",
          "name": "stdout",
          "text": [
            "How many numbers? 6\n",
            "Enter number 1: 1\n",
            "Enter number 2: 2\n",
            "Enter number 3: 3\n",
            "Enter number 4: 4\n",
            "Enter number 5: 5\n",
            "Enter number 6: 6\n",
            "Sum of the numbers is: 21.0\n"
          ]
        }
      ]
    },
    {
      "cell_type": "code",
      "source": [
        "\n",
        "numbers = [10, 20, 30, 40]\n",
        "\n",
        "pos = int(input(\"Enter position to insert at (0-based index): \"))\n",
        "\n",
        "numbers.insert(pos, num)\n",
        "print(\"Updated list:\", numbers)\n"
      ],
      "metadata": {
        "colab": {
          "base_uri": "https://localhost:8080/"
        },
        "id": "Dpnvk7KAC0PV",
        "outputId": "b204a098-a0d2-40db-9f51-a6f9517dbb60"
      },
      "execution_count": 12,
      "outputs": [
        {
          "output_type": "stream",
          "name": "stdout",
          "text": [
            "Enter position to insert at (0-based index): 3\n",
            "Updated list: [10, 20, 30, 6.0, 40]\n"
          ]
        }
      ]
    },
    {
      "cell_type": "code",
      "source": [
        "\n",
        "user_input = input(\"Enter numbers separated by spaces: \")\n",
        "numbers = list(map(float, user_input.split()))\n",
        "\n",
        "min_val = min(numbers)\n",
        "max_val = max(numbers)\n",
        "print(\"Minimum number is:\", min_val)\n",
        "print(\"Maximum number is:\", max_val)\n"
      ],
      "metadata": {
        "colab": {
          "base_uri": "https://localhost:8080/"
        },
        "id": "AZ0EeacdDE2p",
        "outputId": "094c66b7-87d2-4419-a0a7-ba6987642355"
      },
      "execution_count": 13,
      "outputs": [
        {
          "output_type": "stream",
          "name": "stdout",
          "text": [
            "Enter numbers separated by spaces: 4\n",
            "Minimum number is: 4.0\n",
            "Maximum number is: 4.0\n"
          ]
        }
      ]
    },
    {
      "cell_type": "code",
      "source": [
        "numbers = [10, 20, 30, 40, 50]\n",
        "index = int(input(\"Enter index to delete (0-based): \"))\n",
        "if 0 <= index < len(numbers):\n",
        "    del numbers[index]\n",
        "    print(\"Updated list:\", numbers)\n",
        "else:\n",
        "    print(\"Invalid index!\")\n"
      ],
      "metadata": {
        "colab": {
          "base_uri": "https://localhost:8080/"
        },
        "id": "UPVCSZ6cDVY8",
        "outputId": "142c100f-c83b-4b07-8f75-9b23307bda1f"
      },
      "execution_count": 14,
      "outputs": [
        {
          "output_type": "stream",
          "name": "stdout",
          "text": [
            "Enter index to delete (0-based): 3\n",
            "Updated list: [10, 20, 30, 50]\n"
          ]
        }
      ]
    },
    {
      "cell_type": "code",
      "source": [
        "numbers = [10, 20, 30, 40, 50, 60, 70]\n",
        "start = int(input(\"Enter start index: \"))\n",
        "end = int(input(\"Enter end index: \"))\n",
        "sublist = numbers[start:end]\n",
        "print(\"Sublist:\", sublist)\n"
      ],
      "metadata": {
        "colab": {
          "base_uri": "https://localhost:8080/"
        },
        "id": "halab7tSDmj5",
        "outputId": "88fe5126-9eee-498e-ad74-c1232c87c3eb"
      },
      "execution_count": 15,
      "outputs": [
        {
          "output_type": "stream",
          "name": "stdout",
          "text": [
            "Enter start index: 1\n",
            "Enter end index: 4\n",
            "Sublist: [20, 30, 40]\n"
          ]
        }
      ]
    },
    {
      "cell_type": "code",
      "source": [
        "numbers = [5, 12, 25, 7, 30, 18]\n",
        "threshold = int(input(\"Enter the number: \"))\n",
        "result = [num for num in numbers if num > threshold]\n",
        "print(\"Values greater than\", threshold, \"are:\", result)\n"
      ],
      "metadata": {
        "colab": {
          "base_uri": "https://localhost:8080/"
        },
        "id": "4Lsn3p7AD34w",
        "outputId": "0c038924-9b4a-46af-aadb-1a589eb305ca"
      },
      "execution_count": 16,
      "outputs": [
        {
          "output_type": "stream",
          "name": "stdout",
          "text": [
            "Enter the number: 12\n",
            "Values greater than 12 are: [25, 30, 18]\n"
          ]
        }
      ]
    },
    {
      "cell_type": "code",
      "source": [
        "numbers = [10, 15, 22, 33, 40, 55, 60]\n",
        "even = [num for num in numbers if num % 2 == 0]\n",
        "odd = [num for num in numbers if num % 2 != 0]\n",
        "print(\"Even numbers:\", even)\n",
        "print(\"Odd numbers:\", odd)\n"
      ],
      "metadata": {
        "colab": {
          "base_uri": "https://localhost:8080/"
        },
        "id": "Bc8GCDuJEJRR",
        "outputId": "fed25c16-2289-4581-b2b2-1529ae6db77d"
      },
      "execution_count": 17,
      "outputs": [
        {
          "output_type": "stream",
          "name": "stdout",
          "text": [
            "Even numbers: [10, 22, 40, 60]\n",
            "Odd numbers: [15, 33, 55]\n"
          ]
        }
      ]
    }
  ]
}